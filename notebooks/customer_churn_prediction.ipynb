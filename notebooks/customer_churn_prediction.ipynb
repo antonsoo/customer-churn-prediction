{
  "nbformat": 4,
  "nbformat_minor": 0,
  "metadata": {
    "colab": {
      "provenance": [],
      "gpuType": "T4"
    },
    "kernelspec": {
      "name": "python3",
      "display_name": "Python 3"
    },
    "language_info": {
      "name": "python"
    },
    "accelerator": "GPU"
  },
  "cells": [
    {
      "cell_type": "code",
      "execution_count": 1,
      "metadata": {
        "colab": {
          "base_uri": "https://localhost:8080/"
        },
        "id": "1HNXHQM4EjAG",
        "outputId": "8663d2f9-5c7b-41f4-c52a-a94b9c9bea4a"
      },
      "outputs": [
        {
          "output_type": "stream",
          "name": "stdout",
          "text": [
            "Mounted at /content/drive\n"
          ]
        }
      ],
      "source": [
        "from google.colab import drive\n",
        "drive.mount('/content/drive')"
      ]
    },
    {
      "cell_type": "code",
      "source": [
        "%cd /content/drive/MyDrive\n",
        "!git clone https://github.com/antonsoo/customer-churn-prediction"
      ],
      "metadata": {
        "colab": {
          "base_uri": "https://localhost:8080/"
        },
        "collapsed": true,
        "id": "DOLIAtZJFcVR",
        "outputId": "a43176ed-515b-427e-ef8e-5a43e5d02dad"
      },
      "execution_count": 2,
      "outputs": [
        {
          "output_type": "stream",
          "name": "stdout",
          "text": [
            "/content/drive/MyDrive\n",
            "Cloning into 'customer-churn-prediction'...\n",
            "remote: Enumerating objects: 5, done.\u001b[K\n",
            "remote: Counting objects: 100% (5/5), done.\u001b[K\n",
            "remote: Compressing objects: 100% (5/5), done.\u001b[K\n",
            "remote: Total 5 (delta 0), reused 0 (delta 0), pack-reused 0 (from 0)\u001b[K\n",
            "Receiving objects: 100% (5/5), done.\n"
          ]
        }
      ]
    },
    {
      "cell_type": "code",
      "source": [
        "%cd customer-churn-prediction\n",
        "%mkdir data model src notebooks"
      ],
      "metadata": {
        "id": "iSZFwrQ-F-hy"
      },
      "execution_count": 4,
      "outputs": []
    },
    {
      "cell_type": "code",
      "source": [
        "!pip install pandas numpy scikit-learn xgboost lightgbm streamlit"
      ],
      "metadata": {
        "colab": {
          "base_uri": "https://localhost:8080/"
        },
        "collapsed": true,
        "id": "Pa-EwKpHEk_e",
        "outputId": "c4297bc5-fa2d-432c-c7be-3aa1155b7e80"
      },
      "execution_count": 5,
      "outputs": [
        {
          "output_type": "stream",
          "name": "stdout",
          "text": [
            "Requirement already satisfied: pandas in /usr/local/lib/python3.10/dist-packages (2.2.2)\n",
            "Requirement already satisfied: numpy in /usr/local/lib/python3.10/dist-packages (1.26.4)\n",
            "Requirement already satisfied: scikit-learn in /usr/local/lib/python3.10/dist-packages (1.6.0)\n",
            "Requirement already satisfied: xgboost in /usr/local/lib/python3.10/dist-packages (2.1.3)\n",
            "Requirement already satisfied: lightgbm in /usr/local/lib/python3.10/dist-packages (4.5.0)\n",
            "Collecting streamlit\n",
            "  Downloading streamlit-1.41.1-py2.py3-none-any.whl.metadata (8.5 kB)\n",
            "Requirement already satisfied: python-dateutil>=2.8.2 in /usr/local/lib/python3.10/dist-packages (from pandas) (2.8.2)\n",
            "Requirement already satisfied: pytz>=2020.1 in /usr/local/lib/python3.10/dist-packages (from pandas) (2024.2)\n",
            "Requirement already satisfied: tzdata>=2022.7 in /usr/local/lib/python3.10/dist-packages (from pandas) (2024.2)\n",
            "Requirement already satisfied: scipy>=1.6.0 in /usr/local/lib/python3.10/dist-packages (from scikit-learn) (1.13.1)\n",
            "Requirement already satisfied: joblib>=1.2.0 in /usr/local/lib/python3.10/dist-packages (from scikit-learn) (1.4.2)\n",
            "Requirement already satisfied: threadpoolctl>=3.1.0 in /usr/local/lib/python3.10/dist-packages (from scikit-learn) (3.5.0)\n",
            "Requirement already satisfied: nvidia-nccl-cu12 in /usr/local/lib/python3.10/dist-packages (from xgboost) (2.23.4)\n",
            "Requirement already satisfied: altair<6,>=4.0 in /usr/local/lib/python3.10/dist-packages (from streamlit) (5.5.0)\n",
            "Requirement already satisfied: blinker<2,>=1.0.0 in /usr/local/lib/python3.10/dist-packages (from streamlit) (1.9.0)\n",
            "Requirement already satisfied: cachetools<6,>=4.0 in /usr/local/lib/python3.10/dist-packages (from streamlit) (5.5.0)\n",
            "Requirement already satisfied: click<9,>=7.0 in /usr/local/lib/python3.10/dist-packages (from streamlit) (8.1.7)\n",
            "Requirement already satisfied: packaging<25,>=20 in /usr/local/lib/python3.10/dist-packages (from streamlit) (24.2)\n",
            "Requirement already satisfied: pillow<12,>=7.1.0 in /usr/local/lib/python3.10/dist-packages (from streamlit) (11.0.0)\n",
            "Requirement already satisfied: protobuf<6,>=3.20 in /usr/local/lib/python3.10/dist-packages (from streamlit) (4.25.5)\n",
            "Requirement already satisfied: pyarrow>=7.0 in /usr/local/lib/python3.10/dist-packages (from streamlit) (17.0.0)\n",
            "Requirement already satisfied: requests<3,>=2.27 in /usr/local/lib/python3.10/dist-packages (from streamlit) (2.32.3)\n",
            "Requirement already satisfied: rich<14,>=10.14.0 in /usr/local/lib/python3.10/dist-packages (from streamlit) (13.9.4)\n",
            "Requirement already satisfied: tenacity<10,>=8.1.0 in /usr/local/lib/python3.10/dist-packages (from streamlit) (9.0.0)\n",
            "Requirement already satisfied: toml<2,>=0.10.1 in /usr/local/lib/python3.10/dist-packages (from streamlit) (0.10.2)\n",
            "Requirement already satisfied: typing-extensions<5,>=4.3.0 in /usr/local/lib/python3.10/dist-packages (from streamlit) (4.12.2)\n",
            "Collecting watchdog<7,>=2.1.5 (from streamlit)\n",
            "  Downloading watchdog-6.0.0-py3-none-manylinux2014_x86_64.whl.metadata (44 kB)\n",
            "\u001b[2K     \u001b[90m━━━━━━━━━━━━━━━━━━━━━━━━━━━━━━━━━━━━━━━━\u001b[0m \u001b[32m44.3/44.3 kB\u001b[0m \u001b[31m3.7 MB/s\u001b[0m eta \u001b[36m0:00:00\u001b[0m\n",
            "\u001b[?25hRequirement already satisfied: gitpython!=3.1.19,<4,>=3.0.7 in /usr/local/lib/python3.10/dist-packages (from streamlit) (3.1.43)\n",
            "Collecting pydeck<1,>=0.8.0b4 (from streamlit)\n",
            "  Downloading pydeck-0.9.1-py2.py3-none-any.whl.metadata (4.1 kB)\n",
            "Requirement already satisfied: tornado<7,>=6.0.3 in /usr/local/lib/python3.10/dist-packages (from streamlit) (6.3.3)\n",
            "Requirement already satisfied: jinja2 in /usr/local/lib/python3.10/dist-packages (from altair<6,>=4.0->streamlit) (3.1.4)\n",
            "Requirement already satisfied: jsonschema>=3.0 in /usr/local/lib/python3.10/dist-packages (from altair<6,>=4.0->streamlit) (4.23.0)\n",
            "Requirement already satisfied: narwhals>=1.14.2 in /usr/local/lib/python3.10/dist-packages (from altair<6,>=4.0->streamlit) (1.18.4)\n",
            "Requirement already satisfied: gitdb<5,>=4.0.1 in /usr/local/lib/python3.10/dist-packages (from gitpython!=3.1.19,<4,>=3.0.7->streamlit) (4.0.11)\n",
            "Requirement already satisfied: six>=1.5 in /usr/local/lib/python3.10/dist-packages (from python-dateutil>=2.8.2->pandas) (1.17.0)\n",
            "Requirement already satisfied: charset-normalizer<4,>=2 in /usr/local/lib/python3.10/dist-packages (from requests<3,>=2.27->streamlit) (3.4.0)\n",
            "Requirement already satisfied: idna<4,>=2.5 in /usr/local/lib/python3.10/dist-packages (from requests<3,>=2.27->streamlit) (3.10)\n",
            "Requirement already satisfied: urllib3<3,>=1.21.1 in /usr/local/lib/python3.10/dist-packages (from requests<3,>=2.27->streamlit) (2.2.3)\n",
            "Requirement already satisfied: certifi>=2017.4.17 in /usr/local/lib/python3.10/dist-packages (from requests<3,>=2.27->streamlit) (2024.12.14)\n",
            "Requirement already satisfied: markdown-it-py>=2.2.0 in /usr/local/lib/python3.10/dist-packages (from rich<14,>=10.14.0->streamlit) (3.0.0)\n",
            "Requirement already satisfied: pygments<3.0.0,>=2.13.0 in /usr/local/lib/python3.10/dist-packages (from rich<14,>=10.14.0->streamlit) (2.18.0)\n",
            "Requirement already satisfied: smmap<6,>=3.0.1 in /usr/local/lib/python3.10/dist-packages (from gitdb<5,>=4.0.1->gitpython!=3.1.19,<4,>=3.0.7->streamlit) (5.0.1)\n",
            "Requirement already satisfied: MarkupSafe>=2.0 in /usr/local/lib/python3.10/dist-packages (from jinja2->altair<6,>=4.0->streamlit) (3.0.2)\n",
            "Requirement already satisfied: attrs>=22.2.0 in /usr/local/lib/python3.10/dist-packages (from jsonschema>=3.0->altair<6,>=4.0->streamlit) (24.3.0)\n",
            "Requirement already satisfied: jsonschema-specifications>=2023.03.6 in /usr/local/lib/python3.10/dist-packages (from jsonschema>=3.0->altair<6,>=4.0->streamlit) (2024.10.1)\n",
            "Requirement already satisfied: referencing>=0.28.4 in /usr/local/lib/python3.10/dist-packages (from jsonschema>=3.0->altair<6,>=4.0->streamlit) (0.35.1)\n",
            "Requirement already satisfied: rpds-py>=0.7.1 in /usr/local/lib/python3.10/dist-packages (from jsonschema>=3.0->altair<6,>=4.0->streamlit) (0.22.3)\n",
            "Requirement already satisfied: mdurl~=0.1 in /usr/local/lib/python3.10/dist-packages (from markdown-it-py>=2.2.0->rich<14,>=10.14.0->streamlit) (0.1.2)\n",
            "Downloading streamlit-1.41.1-py2.py3-none-any.whl (9.1 MB)\n",
            "\u001b[2K   \u001b[90m━━━━━━━━━━━━━━━━━━━━━━━━━━━━━━━━━━━━━━━━\u001b[0m \u001b[32m9.1/9.1 MB\u001b[0m \u001b[31m67.6 MB/s\u001b[0m eta \u001b[36m0:00:00\u001b[0m\n",
            "\u001b[?25hDownloading pydeck-0.9.1-py2.py3-none-any.whl (6.9 MB)\n",
            "\u001b[2K   \u001b[90m━━━━━━━━━━━━━━━━━━━━━━━━━━━━━━━━━━━━━━━━\u001b[0m \u001b[32m6.9/6.9 MB\u001b[0m \u001b[31m73.4 MB/s\u001b[0m eta \u001b[36m0:00:00\u001b[0m\n",
            "\u001b[?25hDownloading watchdog-6.0.0-py3-none-manylinux2014_x86_64.whl (79 kB)\n",
            "\u001b[2K   \u001b[90m━━━━━━━━━━━━━━━━━━━━━━━━━━━━━━━━━━━━━━━━\u001b[0m \u001b[32m79.1/79.1 kB\u001b[0m \u001b[31m6.7 MB/s\u001b[0m eta \u001b[36m0:00:00\u001b[0m\n",
            "\u001b[?25hInstalling collected packages: watchdog, pydeck, streamlit\n",
            "Successfully installed pydeck-0.9.1 streamlit-1.41.1 watchdog-6.0.0\n"
          ]
        }
      ]
    },
    {
      "cell_type": "code",
      "source": [
        "# --- Cell 1: Import Libraries and Mount Drive ---\n",
        "import pandas as pd\n",
        "import numpy as np\n",
        "from sklearn.model_selection import train_test_split\n",
        "from sklearn.preprocessing import StandardScaler, LabelEncoder, OneHotEncoder\n",
        "from sklearn.compose import ColumnTransformer\n",
        "from sklearn.linear_model import LogisticRegression\n",
        "from sklearn.ensemble import RandomForestClassifier\n",
        "from xgboost import XGBClassifier\n",
        "from sklearn.metrics import accuracy_score, classification_report, confusion_matrix, roc_auc_score\n",
        "import matplotlib.pyplot as plt\n",
        "import seaborn as sns\n",
        "import joblib\n",
        "import os\n",
        "\n",
        "from google.colab import drive\n",
        "drive.mount('/content/drive')"
      ],
      "metadata": {
        "colab": {
          "base_uri": "https://localhost:8080/"
        },
        "id": "lFx9a17eElMv",
        "outputId": "adeff678-2c75-413c-b226-64d9b560381a"
      },
      "execution_count": 6,
      "outputs": [
        {
          "output_type": "stream",
          "name": "stdout",
          "text": [
            "Drive already mounted at /content/drive; to attempt to forcibly remount, call drive.mount(\"/content/drive\", force_remount=True).\n"
          ]
        }
      ]
    },
    {
      "cell_type": "code",
      "source": [
        "# --- Cell 2: Configuration and Constants ---\n",
        "# Define paths, model parameters, etc.\n",
        "DATA_DIR = '/content/drive/MyDrive/customer-churn-prediction/data' # Make sure this directory exists\n",
        "MODEL_DIR = '/content/drive/MyDrive/customer-churn-prediction/model' # Make sure this directory exists\n",
        "TRAIN_SCRIPT_PATH = '/content/drive/MyDrive/customer-churn-prediction/src/train.py'\n",
        "APP_SCRIPT_PATH = '/content/drive/MyDrive/customer-churn-prediction/src/app.py'\n",
        "NOTEBOOK_PATH = '/content/drive/MyDrive/customer-churn-prediction/notebooks/customer_churn_prediction.ipynb'"
      ],
      "metadata": {
        "id": "hl9BJNYZElQ-"
      },
      "execution_count": 7,
      "outputs": []
    },
    {
      "cell_type": "code",
      "source": [
        "# --- Cell 3: Download the Dataset (if necessary) ---\n",
        "# Use this cell to download the dataset from Kaggle or another source\n",
        "# Example (Kaggle):\n",
        "!kaggle datasets download -d blastchar/telco-customer-churn -p {DATA_DIR}\n",
        "!unzip {DATA_DIR}/telco-customer-churn.zip -d {DATA_DIR}"
      ],
      "metadata": {
        "colab": {
          "base_uri": "https://localhost:8080/"
        },
        "collapsed": true,
        "id": "vDq4BtgyElVk",
        "outputId": "254cecf9-ef6a-4163-9e02-068df0516242"
      },
      "execution_count": 8,
      "outputs": [
        {
          "output_type": "stream",
          "name": "stdout",
          "text": [
            "Dataset URL: https://www.kaggle.com/datasets/blastchar/telco-customer-churn\n",
            "License(s): copyright-authors\n",
            "Downloading telco-customer-churn.zip to /content/drive/MyDrive/customer-churn-prediction/data\n",
            "100% 172k/172k [00:00<00:00, 678kB/s]\n",
            "100% 172k/172k [00:00<00:00, 672kB/s]\n",
            "Archive:  /content/drive/MyDrive/customer-churn-prediction/data/telco-customer-churn.zip\n",
            "  inflating: /content/drive/MyDrive/customer-churn-prediction/data/WA_Fn-UseC_-Telco-Customer-Churn.csv  \n"
          ]
        }
      ]
    },
    {
      "cell_type": "code",
      "source": [
        "%%writefile '/content/drive/MyDrive/customer-churn-prediction/data/STEPS_TO_DOWNLOAD_DATA.MD'\n",
        "!kaggle datasets download -d blastchar/telco-customer-churn -p {DATA_DIR}\n",
        "!unzip {DATA_DIR}/telco-customer-churn.zip -d {DATA_DIR}"
      ],
      "metadata": {
        "colab": {
          "base_uri": "https://localhost:8080/"
        },
        "id": "Sxb_d8qnUbgp",
        "outputId": "7b939bae-d7a5-435b-9b8d-87ac6e4aeee9"
      },
      "execution_count": 21,
      "outputs": [
        {
          "output_type": "stream",
          "name": "stdout",
          "text": [
            "Writing /content/drive/MyDrive/customer-churn-prediction/data/STEPS_TO_DOWNLOAD_DATA.MD\n"
          ]
        }
      ]
    },
    {
      "cell_type": "code",
      "source": [
        "# --- Cell 4: Data Loading and Preprocessing ---\n",
        "# Load data\n",
        "data = pd.read_csv(os.path.join(DATA_DIR, \"WA_Fn-UseC_-Telco-Customer-Churn.csv\")) # Update with the name of the dataset csv file\n",
        "\n",
        "# Basic Cleaning\n",
        "data['TotalCharges'] = pd.to_numeric(data['TotalCharges'], errors='coerce')\n",
        "data['TotalCharges'].fillna(data['TotalCharges'].median(), inplace=True)\n",
        "\n",
        "# Feature Engineering (Example)\n",
        "# data['TenureInMonths'] = data['tenure'] * 12  # Example: If you have tenure in years\n",
        "\n",
        "# Separate features (X) and target (y)\n",
        "X = data.drop(['customerID', 'Churn'], axis=1)\n",
        "y = data['Churn']\n",
        "\n",
        "# Encode target variable\n",
        "label_encoder = LabelEncoder()\n",
        "y = label_encoder.fit_transform(y)\n",
        "\n",
        "# Split data\n",
        "X_train, X_temp, y_train, y_temp = train_test_split(X, y, test_size=0.3, random_state=42)\n",
        "X_val, X_test, y_val, y_test = train_test_split(X_temp, y_temp, test_size=0.5, random_state=42)\n",
        "\n",
        "# Identify numerical and categorical features\n",
        "numerical_features = X.select_dtypes(include=['number']).columns\n",
        "categorical_features = X.select_dtypes(include=['object']).columns\n",
        "\n",
        "# Create a column transformer for preprocessing\n",
        "preprocessor = ColumnTransformer(\n",
        "    transformers=[\n",
        "        ('num', StandardScaler(), numerical_features),\n",
        "        ('cat', OneHotEncoder(handle_unknown='ignore'), categorical_features)\n",
        "    ])\n",
        "\n",
        "# Fit and transform the training data\n",
        "X_train_processed = preprocessor.fit_transform(X_train)\n",
        "\n",
        "# Transform the validation and test data\n",
        "X_val_processed = preprocessor.transform(X_val)\n",
        "X_test_processed = preprocessor.transform(X_test)"
      ],
      "metadata": {
        "colab": {
          "base_uri": "https://localhost:8080/"
        },
        "collapsed": true,
        "id": "4NPBqolyElaw",
        "outputId": "67026470-6c4a-4944-b3e6-e6ab50dc8ea2"
      },
      "execution_count": 9,
      "outputs": [
        {
          "output_type": "stream",
          "name": "stderr",
          "text": [
            "<ipython-input-9-f584b3ecf7a6>:7: FutureWarning: A value is trying to be set on a copy of a DataFrame or Series through chained assignment using an inplace method.\n",
            "The behavior will change in pandas 3.0. This inplace method will never work because the intermediate object on which we are setting values always behaves as a copy.\n",
            "\n",
            "For example, when doing 'df[col].method(value, inplace=True)', try using 'df.method({col: value}, inplace=True)' or df[col] = df[col].method(value) instead, to perform the operation inplace on the original object.\n",
            "\n",
            "\n",
            "  data['TotalCharges'].fillna(data['TotalCharges'].median(), inplace=True)\n"
          ]
        }
      ]
    },
    {
      "cell_type": "code",
      "source": [
        "# --- Cell 5: Model Training ---\n",
        "# Logistic Regression\n",
        "log_reg = LogisticRegression(random_state=42, max_iter=100000)\n",
        "log_reg.fit(X_train_processed, y_train)\n",
        "y_val_pred_log_reg = log_reg.predict(X_val_processed)\n",
        "\n",
        "print(\"Logistic Regression Validation Accuracy:\", accuracy_score(y_val, y_val_pred_log_reg))\n",
        "print(classification_report(y_val, y_val_pred_log_reg))\n",
        "\n",
        "# Random Forest\n",
        "rf_model = RandomForestClassifier(random_state=42)\n",
        "rf_model.fit(X_train_processed, y_train)\n",
        "y_val_pred_rf = rf_model.predict(X_val_processed)\n",
        "\n",
        "print(\"Random Forest Validation Accuracy:\", accuracy_score(y_val, y_val_pred_rf))\n",
        "print(classification_report(y_val, y_val_pred_rf))\n",
        "\n",
        "# XGBoost\n",
        "xgb_model = XGBClassifier(random_state=42, use_label_encoder=False, eval_metric='logloss')\n",
        "xgb_model.fit(X_train_processed, y_train)\n",
        "y_val_pred_xgb = xgb_model.predict(X_val_processed)\n",
        "\n",
        "print(\"XGBoost Validation Accuracy:\", accuracy_score(y_val, y_val_pred_xgb))\n",
        "print(classification_report(y_val, y_val_pred_xgb))"
      ],
      "metadata": {
        "colab": {
          "base_uri": "https://localhost:8080/"
        },
        "id": "GRC2Ou7yElf_",
        "outputId": "658ec6aa-4d0e-479a-fabe-a5ddd9aa73ab"
      },
      "execution_count": 12,
      "outputs": [
        {
          "output_type": "stream",
          "name": "stdout",
          "text": [
            "Logistic Regression Validation Accuracy: 0.8162878787878788\n",
            "              precision    recall  f1-score   support\n",
            "\n",
            "           0       0.86      0.90      0.88       778\n",
            "           1       0.68      0.58      0.62       278\n",
            "\n",
            "    accuracy                           0.82      1056\n",
            "   macro avg       0.77      0.74      0.75      1056\n",
            "weighted avg       0.81      0.82      0.81      1056\n",
            "\n",
            "Random Forest Validation Accuracy: 0.7973484848484849\n",
            "              precision    recall  f1-score   support\n",
            "\n",
            "           0       0.83      0.92      0.87       778\n",
            "           1       0.66      0.47      0.55       278\n",
            "\n",
            "    accuracy                           0.80      1056\n",
            "   macro avg       0.75      0.69      0.71      1056\n",
            "weighted avg       0.78      0.80      0.78      1056\n",
            "\n"
          ]
        },
        {
          "output_type": "stream",
          "name": "stderr",
          "text": [
            "/usr/local/lib/python3.10/dist-packages/xgboost/core.py:158: UserWarning: [23:18:46] WARNING: /workspace/src/learner.cc:740: \n",
            "Parameters: { \"use_label_encoder\" } are not used.\n",
            "\n",
            "  warnings.warn(smsg, UserWarning)\n"
          ]
        },
        {
          "output_type": "stream",
          "name": "stdout",
          "text": [
            "XGBoost Validation Accuracy: 0.7964015151515151\n",
            "              precision    recall  f1-score   support\n",
            "\n",
            "           0       0.84      0.89      0.87       778\n",
            "           1       0.64      0.53      0.58       278\n",
            "\n",
            "    accuracy                           0.80      1056\n",
            "   macro avg       0.74      0.71      0.72      1056\n",
            "weighted avg       0.79      0.80      0.79      1056\n",
            "\n"
          ]
        }
      ]
    },
    {
      "cell_type": "code",
      "source": [
        "# --- Cell 6: Model Evaluation ---\n",
        "# Assuming XGBoost is your best model\n",
        "y_test_pred = xgb_model.predict(X_test_processed)\n",
        "\n",
        "print(\"Test Accuracy:\", accuracy_score(y_test, y_test_pred))\n",
        "print(classification_report(y_test, y_test_pred))\n",
        "\n",
        "# Confusion Matrix\n",
        "cm = confusion_matrix(y_test, y_test_pred)\n",
        "print(\"Confusion Matrix:\\n\", cm)\n",
        "\n",
        "plt.figure(figsize=(8, 6))\n",
        "sns.heatmap(cm, annot=True, fmt=\"d\", cmap=\"Blues\")\n",
        "plt.xlabel('Predicted')\n",
        "plt.ylabel('True')\n",
        "plt.title('Confusion Matrix')\n",
        "plt.show()"
      ],
      "metadata": {
        "colab": {
          "base_uri": "https://localhost:8080/",
          "height": 816
        },
        "id": "D_az_1lmElkw",
        "outputId": "1c4749c5-8d59-452a-f4b9-c9d3092a54c2"
      },
      "execution_count": 13,
      "outputs": [
        {
          "output_type": "stream",
          "name": "stdout",
          "text": [
            "Test Accuracy: 0.7861873226111636\n",
            "              precision    recall  f1-score   support\n",
            "\n",
            "           0       0.82      0.89      0.86       761\n",
            "           1       0.65      0.51      0.57       296\n",
            "\n",
            "    accuracy                           0.79      1057\n",
            "   macro avg       0.74      0.70      0.71      1057\n",
            "weighted avg       0.78      0.79      0.78      1057\n",
            "\n",
            "Confusion Matrix:\n",
            " [[680  81]\n",
            " [145 151]]\n"
          ]
        },
        {
          "output_type": "display_data",
          "data": {
            "text/plain": [
              "<Figure size 800x600 with 2 Axes>"
            ],
            "image/png": "[encoded data removed]"
          },
          "metadata": {}
        }
      ]
    },
    {
      "cell_type": "code",
      "source": [
        "# --- Cell 7: Save Model and Preprocessor ---\n",
        "# Save the model\n",
        "joblib.dump(xgb_model, os.path.join(MODEL_DIR, 'churn_prediction_model.pkl'))\n",
        "\n",
        "# Save the preprocessor\n",
        "joblib.dump(preprocessor, os.path.join(MODEL_DIR, 'preprocessor.pkl'))"
      ],
      "metadata": {
        "colab": {
          "base_uri": "https://localhost:8080/"
        },
        "id": "Kd-z_-DAFPSr",
        "outputId": "c144a751-aadc-4c8e-f376-08c5357dd456"
      },
      "execution_count": 14,
      "outputs": [
        {
          "output_type": "execute_result",
          "data": {
            "text/plain": [
              "['/content/drive/MyDrive/customer-churn-prediction/model/preprocessor.pkl']"
            ]
          },
          "metadata": {},
          "execution_count": 14
        }
      ]
    },
    {
      "cell_type": "code",
      "source": [
        "# --- Cell 8: Create train.py (Optional) ---\n",
        "%%writefile {TRAIN_SCRIPT_PATH}\n",
        "import pandas as pd\n",
        "import numpy as np\n",
        "from sklearn.model_selection import train_test_split\n",
        "from sklearn.preprocessing import StandardScaler, LabelEncoder, OneHotEncoder\n",
        "from sklearn.compose import ColumnTransformer\n",
        "from sklearn.linear_model import LogisticRegression\n",
        "from sklearn.ensemble import RandomForestClassifier\n",
        "from xgboost import XGBClassifier\n",
        "from sklearn.metrics import accuracy_score, classification_report, confusion_matrix, roc_auc_score\n",
        "import matplotlib.pyplot as plt\n",
        "import seaborn as sns\n",
        "import joblib\n",
        "import os\n",
        "\n",
        "# Configuration (You can adjust these as needed)\n",
        "DATA_DIR = 'data'\n",
        "MODEL_DIR = 'model'\n",
        "TRAIN_SCRIPT_PATH = 'src/train.py'\n",
        "APP_SCRIPT_PATH = 'src/app.py'\n",
        "NOTEBOOK_PATH = 'notebooks/customer_churn_prediction.ipynb'\n",
        "\n",
        "# --- Data Loading and Preprocessing ---\n",
        "def load_and_preprocess_data(data_dir):\n",
        "    data = pd.read_csv(os.path.join(data_dir, \"WA_Fn-UseC_-Telco-Customer-Churn.csv\"))\n",
        "\n",
        "    # Basic Cleaning\n",
        "    data['TotalCharges'] = pd.to_numeric(data['TotalCharges'], errors='coerce')\n",
        "    data['TotalCharges'].fillna(data['TotalCharges'].median(), inplace=True)\n",
        "\n",
        "    # Feature Engineering (Example)\n",
        "    # data['TenureInMonths'] = data['tenure'] * 12  # Example: If you have tenure in years\n",
        "\n",
        "    # Separate features (X) and target (y)\n",
        "    X = data.drop(['customerID', 'Churn'], axis=1)\n",
        "    y = data['Churn']\n",
        "\n",
        "    # Encode target variable\n",
        "    label_encoder = LabelEncoder()\n",
        "    y = label_encoder.fit_transform(y)\n",
        "\n",
        "    # Split data\n",
        "    X_train, X_temp, y_train, y_temp = train_test_split(X, y, test_size=0.3, random_state=42)\n",
        "    X_val, X_test, y_val, y_test = train_test_split(X_temp, y_temp, test_size=0.5, random_state=42)\n",
        "\n",
        "    # Identify numerical and categorical features\n",
        "    numerical_features = X.select_dtypes(include=['number']).columns\n",
        "    categorical_features = X.select_dtypes(include=['object']).columns\n",
        "\n",
        "    # Create a column transformer for preprocessing\n",
        "    preprocessor = ColumnTransformer(\n",
        "        transformers=[\n",
        "            ('num', StandardScaler(), numerical_features),\n",
        "            ('cat', OneHotEncoder(handle_unknown='ignore'), categorical_features)\n",
        "        ])\n",
        "\n",
        "    # Fit and transform the training data\n",
        "    X_train_processed = preprocessor.fit_transform(X_train)\n",
        "\n",
        "    # Transform the validation and test data\n",
        "    X_val_processed = preprocessor.transform(X_val)\n",
        "    X_test_processed = preprocessor.transform(X_test)\n",
        "\n",
        "    return X_train_processed, X_val_processed, X_test_processed, y_train, y_val, y_test, preprocessor\n",
        "\n",
        "# --- Model Training ---\n",
        "def train_model(X_train, y_train, X_val, y_val):\n",
        "    # Logistic Regression\n",
        "    log_reg = LogisticRegression(random_state=42, max_iter=1000)\n",
        "    log_reg.fit(X_train, y_train)\n",
        "    y_val_pred_log_reg = log_reg.predict(X_val)\n",
        "\n",
        "    print(\"Logistic Regression Validation Accuracy:\", accuracy_score(y_val, y_val_pred_log_reg))\n",
        "    print(classification_report(y_val, y_val_pred_log_reg))\n",
        "\n",
        "    # Random Forest\n",
        "    rf_model = RandomForestClassifier(random_state=42)\n",
        "    rf_model.fit(X_train, y_train)\n",
        "    y_val_pred_rf = rf_model.predict(X_val)\n",
        "\n",
        "    print(\"Random Forest Validation Accuracy:\", accuracy_score(y_val, y_val_pred_rf))\n",
        "    print(classification_report(y_val, y_val_pred_rf))\n",
        "\n",
        "    # XGBoost\n",
        "    xgb_model = XGBClassifier(random_state=42, use_label_encoder=False, eval_metric='logloss')\n",
        "    xgb_model.fit(X_train, y_train)\n",
        "    y_val_pred_xgb = xgb_model.predict(X_val)\n",
        "\n",
        "    print(\"XGBoost Validation Accuracy:\", accuracy_score(y_val, y_val_pred_xgb))\n",
        "    print(classification_report(y_val, y_val_pred_xgb))\n",
        "\n",
        "    return log_reg, rf_model, xgb_model\n",
        "\n",
        "# --- Model Evaluation ---\n",
        "def evaluate_model(model, X_test, y_test):\n",
        "    y_test_pred = model.predict(X_test)\n",
        "\n",
        "    print(\"Test Accuracy:\", accuracy_score(y_test, y_test_pred))\n",
        "    print(classification_report(y_test, y_test_pred))\n",
        "\n",
        "    # Confusion Matrix\n",
        "    cm = confusion_matrix(y_test, y_test_pred)\n",
        "    print(\"Confusion Matrix:\\n\", cm)\n",
        "\n",
        "    plt.figure(figsize=(8, 6))\n",
        "    sns.heatmap(cm, annot=True, fmt=\"d\", cmap=\"Blues\")\n",
        "    plt.xlabel('Predicted')\n",
        "    plt.ylabel('True')\n",
        "    plt.title('Confusion Matrix')\n",
        "    plt.show()\n",
        "\n",
        "# --- Main Function ---\n",
        "def main():\n",
        "    X_train_processed, X_val_processed, X_test_processed, y_train, y_val, y_test, preprocessor = load_and_preprocess_data(DATA_DIR)\n",
        "    log_reg, rf_model, xgb_model = train_model(X_train_processed, y_train, X_val_processed, y_val)\n",
        "\n",
        "    # Choose the best model based on validation performance\n",
        "    best_model = xgb_model  # Replace with your chosen model\n",
        "\n",
        "    evaluate_model(best_model, X_test_processed, y_test)\n",
        "\n",
        "    # Save the model and preprocessor\n",
        "    joblib.dump(best_model, os.path.join(MODEL_DIR, 'churn_prediction_model.pkl'))\n",
        "    joblib.dump(preprocessor, os.path.join(MODEL_DIR, 'preprocessor.pkl'))\n",
        "\n",
        "if __name__ == \"__main__\":\n",
        "    main()"
      ],
      "metadata": {
        "colab": {
          "base_uri": "https://localhost:8080/"
        },
        "id": "Z_DvHREFFPXA",
        "outputId": "57bc427d-e4fb-4cab-fb7f-7c9b04d26d73"
      },
      "execution_count": 18,
      "outputs": [
        {
          "output_type": "stream",
          "name": "stdout",
          "text": [
            "Writing /content/drive/MyDrive/customer-churn-prediction/src/train.py\n"
          ]
        }
      ]
    },
    {
      "cell_type": "code",
      "source": [
        "# --- Cell 9: Create app.py (Streamlit App) ---\n",
        "%%writefile /content/drive/MyDrive/customer-churn-prediction/src/app.py\n",
        "# Paste the entire content of your Streamlit app (app.py) here\n",
        "import streamlit as st\n",
        "import pandas as pd\n",
        "import joblib\n",
        "import os\n",
        "\n",
        "# Set the absolute path to the directory where models are stored\n",
        "model_dir = \"/content/drive/MyDrive/customer-churn-prediction/model\"  # Update this to your actual path\n",
        "\n",
        "# Load the trained model and preprocessor\n",
        "try:\n",
        "    model = joblib.load(os.path.join(model_dir, 'churn_prediction_model.pkl'))\n",
        "    preprocessor = joblib.load(os.path.join(model_dir, 'preprocessor.pkl'))\n",
        "except Exception as e:\n",
        "    st.error(f\"Error loading the model: {e}\")\n",
        "    st.stop()\n",
        "\n",
        "# Function to preprocess input data\n",
        "def preprocess_input(data, preprocessor):\n",
        "    df = pd.DataFrame([data])\n",
        "    df_processed = preprocessor.transform(df)\n",
        "    return df_processed\n",
        "\n",
        "# Streamlit app\n",
        "st.title(\"Customer Churn Prediction App\")\n",
        "st.write(\"\"\"\n",
        "Enter customer information to predict churn.\n",
        "\"\"\")\n",
        "\n",
        "# Input form\n",
        "gender = st.selectbox(\"Gender\", [\"Male\", \"Female\"])\n",
        "senior_citizen = st.selectbox(\"Senior Citizen\", [\"No\", \"Yes\"])\n",
        "partner = st.selectbox(\"Partner\", [\"No\", \"Yes\"])\n",
        "dependents = st.selectbox(\"Dependents\", [\"No\", \"Yes\"])\n",
        "tenure = st.slider(\"Tenure (months)\", 0, 72, 1)\n",
        "phone_service = st.selectbox(\"Phone Service\", [\"No\", \"Yes\"])\n",
        "multiple_lines = st.selectbox(\"Multiple Lines\", [\"No\", \"Yes\", \"No phone service\"])\n",
        "online_security = st.selectbox(\"Online Security\", [\"No\", \"Yes\", \"No internet service\"])\n",
        "online_backup = st.selectbox(\"Online Backup\", [\"No\", \"Yes\", \"No internet service\"])\n",
        "device_protection = st.selectbox(\"Device Protection\", [\"No\", \"Yes\", \"No internet service\"])\n",
        "tech_support = st.selectbox(\"Tech Support\", [\"No\", \"Yes\", \"No internet service\"])\n",
        "streaming_tv = st.selectbox(\"Streaming TV\", [\"No\", \"Yes\", \"No internet service\"])\n",
        "streaming_movies = st.selectbox(\"Streaming Movies\", [\"No\", \"Yes\", \"No internet service\"])\n",
        "contract = st.selectbox(\"Contract\", [\"Month-to-month\", \"One year\", \"Two year\"])\n",
        "paperless_billing = st.selectbox(\"Paperless Billing\", [\"No\", \"Yes\"])\n",
        "payment_method = st.selectbox(\"Payment Method\", [\"Electronic check\", \"Mailed check\", \"Bank transfer (automatic)\", \"Credit card (automatic)\"])\n",
        "monthly_charges = st.number_input(\"Monthly Charges\", 0.00, 200.00, 50.00)\n",
        "total_charges = st.number_input(\"Total Charges\", 0.00, 10000.00, 1000.00)\n",
        "internet_service = st.selectbox(\"Internet Service\", [\"DSL\", \"Fiber optic\", \"No\"])\n",
        "\n",
        "# Convert input to a dictionary\n",
        "input_data = {\n",
        "    \"gender\": gender,\n",
        "    \"SeniorCitizen\": 1 if senior_citizen == \"Yes\" else 0,\n",
        "    \"Partner\": partner,\n",
        "    \"Dependents\": dependents,\n",
        "    \"tenure\": tenure,\n",
        "    \"PhoneService\": phone_service,\n",
        "    \"MultipleLines\": multiple_lines,\n",
        "    \"OnlineSecurity\": online_security,\n",
        "    \"OnlineBackup\": online_backup,\n",
        "    \"DeviceProtection\": device_protection,\n",
        "    \"TechSupport\": tech_support,\n",
        "    \"StreamingTV\": streaming_tv,\n",
        "    \"StreamingMovies\": streaming_movies,\n",
        "    \"Contract\": contract,\n",
        "    \"PaperlessBilling\": paperless_billing,\n",
        "    \"PaymentMethod\": payment_method,\n",
        "    \"MonthlyCharges\": monthly_charges,\n",
        "    \"TotalCharges\": total_charges,\n",
        "    \"InternetService\": internet_service\n",
        "}\n",
        "\n",
        "# Prediction button\n",
        "if st.button(\"Predict Churn\"):\n",
        "    try:\n",
        "        # Preprocess input data\n",
        "        input_data_processed = preprocess_input(input_data, preprocessor)\n",
        "\n",
        "        # Make prediction\n",
        "        prediction = model.predict(input_data_processed)\n",
        "        probability = model.predict_proba(input_data_processed)\n",
        "\n",
        "        # Display result\n",
        "        if prediction[0] == 1:\n",
        "            st.warning(\"This customer is likely to churn.\")\n",
        "            st.write(f\"Churn Probability: {probability[0][1]:.2f}\")\n",
        "        else:\n",
        "            st.success(\"This customer is likely to stay.\")\n",
        "            st.write(f\"Churn Probability: {probability[0][0]:.2f}\")\n",
        "\n",
        "    except Exception as e:\n",
        "        st.error(f\"An error occurred during prediction: {e}\")"
      ],
      "metadata": {
        "id": "iMSAFvtvFPbz"
      },
      "execution_count": null,
      "outputs": []
    },
    {
      "cell_type": "code",
      "source": [
        "!pip install flask"
      ],
      "metadata": {
        "id": "4WumVJBi87pY"
      },
      "execution_count": null,
      "outputs": []
    },
    {
      "cell_type": "code",
      "source": [
        "# --- Cell 10: Test Streamlit App Locally (with Enhanced Debugging and Thread Management) ---\n",
        "import threading\n",
        "import subprocess\n",
        "import time\n",
        "import re\n",
        "from pyngrok import ngrok, conf\n",
        "import os\n",
        "import sys\n",
        "import yaml\n",
        "import requests\n",
        "\n",
        "# Set your ngrok auth token here\n",
        "NGROK_AUTH_TOKEN = \"YOUR NGROK TOKEN HERE\"  # Replace with your actual token\n",
        "\n",
        "# Define APP_SCRIPT_PATH (Make sure this is correct!)\n",
        "APP_SCRIPT_PATH = \"/content/drive/MyDrive/customer-churn-prediction/src/app.py\"  # Update this!\n",
        "\n",
        "# Ensure pyngrok is installed\n",
        "try:\n",
        "    import pyngrok\n",
        "except ImportError:\n",
        "    print(\"Installing pyngrok...\")\n",
        "    !pip install pyngrok\n",
        "    import pyngrok\n",
        "\n",
        "# Function to run Streamlit (unchanged from before)\n",
        "# ... (The run_streamlit function remains the same) ...\n",
        "\n",
        "# Function to run ngrok (modified for more verbose output)\n",
        "def run_ngrok():\n",
        "    try:\n",
        "        time.sleep(15)  # Allow Flask server to start\n",
        "\n",
        "        print(\"Starting ngrok...\")\n",
        "\n",
        "        # Set ngrok authentication token using pyngrok's conf module\n",
        "        print(\"Setting ngrok auth token...\")\n",
        "        conf.get_default().auth_token = NGROK_AUTH_TOKEN\n",
        "        # Tell ngrok to use the configuration file\n",
        "        conf.get_default().config_path = ngrok.conf.get_default().config_path\n",
        "\n",
        "        public_url = ngrok.connect(8502)\n",
        "        print(\"Public URL:\", public_url)\n",
        "\n",
        "        # Extract and print the ngrok URL using regex\n",
        "        match = re.search(r\"\\\"(https://.*\\.ngrok\\.io)\\\"\", str(public_url))\n",
        "        if match:\n",
        "            print(\"Ngrok URL:\", match.group(1))\n",
        "        else:\n",
        "            print(\"Failed to extract ngrok URL. Check the ngrok output for details.\")\n",
        "\n",
        "    except Exception as e:\n",
        "        print(f\"Error running ngrok: {e}\")\n",
        "\n",
        "# Create and start threads\n",
        "streamlit_thread = threading.Thread(target=run_streamlit)\n",
        "ngrok_thread = threading.Thread(target=run_ngrok)\n",
        "\n",
        "streamlit_thread.start()\n",
        "ngrok_thread.start()\n",
        "\n",
        "# --- Additional Debugging: Check Flask Server ---\n",
        "time.sleep(20)  # Wait for Flask to start\n",
        "\n",
        "try:\n",
        "    response = requests.get(\"http://127.0.0.1:8502\")\n",
        "    response.raise_for_status()  # Raise an exception for bad status codes\n",
        "    print(\"Flask server is accessible at http://127.0.0.1:8502\")\n",
        "    print(\"Flask response:\", response.text)\n",
        "except requests.exceptions.ConnectionError as e:\n",
        "    print(f\"Error accessing Flask server: {e}\")\n",
        "    print(\"Please check the Flask server logs for any errors.\")\n",
        "except Exception as e:\n",
        "    print(f\"An unexpected error occurred: {e}\")"
      ],
      "metadata": {
        "collapsed": true,
        "id": "JpYsUMGhFPfa"
      },
      "execution_count": null,
      "outputs": []
    },
    {
      "cell_type": "code",
      "source": [
        "# --- Cell 11 (and others below): Commit and Push to GitHub ---\n",
        "#%cd /content/drive/MyDrive/customer-churn-prediction"
      ],
      "metadata": {
        "id": "5W2R7j19FPiq"
      },
      "execution_count": null,
      "outputs": []
    },
    {
      "cell_type": "code",
      "source": [
        "!git config --global user.email \"your GitHub email\"\n",
        "!git config --global user.name \"your GitHub name\""
      ],
      "metadata": {
        "collapsed": true,
        "id": "_xI8QfIIRcd_"
      },
      "execution_count": null,
      "outputs": []
    },
    {
      "cell_type": "code",
      "source": [
        "!echo \"*.gsheet\" >> .gitignore\n",
        "!echo \".config/\" >> .gitignore\n",
        "!git add .gitignore\n",
        "!git commit -m \"Add .gitignore to exclude unsupported files\""
      ],
      "metadata": {
        "id": "O4-RsVqmRchv"
      },
      "execution_count": null,
      "outputs": []
    },
    {
      "cell_type": "code",
      "source": [
        "!rm -rf .git  # Remove the current Git configuration\n",
        "!git init     # Initialize Git in this folder\n",
        "!git remote add origin https://github.com/<YourGitHubProfileName>/customer-churn-prediction.git"
      ],
      "metadata": {
        "id": "NZG-02NiRdNg"
      },
      "execution_count": null,
      "outputs": []
    },
    {
      "cell_type": "code",
      "source": [
        "%cd /content/drive/MyDrive/customer-churn-prediction"
      ],
      "metadata": {
        "colab": {
          "base_uri": "https://localhost:8080/"
        },
        "id": "Bzf75PHHVROQ",
        "outputId": "753a410f-ed6a-4486-d8ee-166915146e29"
      },
      "execution_count": 43,
      "outputs": [
        {
          "output_type": "stream",
          "name": "stdout",
          "text": [
            "/content/drive/MyDrive/customer-churn-prediction\n"
          ]
        }
      ]
    },
    {
      "cell_type": "code",
      "source": [
        "!git reset"
      ],
      "metadata": {
        "id": "Tt_zUvWAVXsX"
      },
      "execution_count": 44,
      "outputs": []
    },
    {
      "cell_type": "code",
      "source": [
        "!rm -rf .git  # Remove the current Git configuration\n",
        "!git init     # Initialize Git in this folder\n",
        "!git remote add origin https://github.com/antonsoo/customer-churn-prediction.git"
      ],
      "metadata": {
        "id": "ncKZ9ba-VcKW"
      },
      "execution_count": null,
      "outputs": []
    },
    {
      "cell_type": "code",
      "source": [
        "!git add ."
      ],
      "metadata": {
        "id": "sYb1dTn_Vc4J"
      },
      "execution_count": 46,
      "outputs": []
    },
    {
      "cell_type": "code",
      "source": [
        "!git add .\n",
        "!git commit -m \"Initial commit for customer-churn-prediction\""
      ],
      "metadata": {
        "id": "yXKkl0t0VkLn"
      },
      "execution_count": null,
      "outputs": []
    },
    {
      "cell_type": "code",
      "source": [
        "!git branch -M main"
      ],
      "metadata": {
        "id": "jtzXcrNMVx6Y"
      },
      "execution_count": 49,
      "outputs": []
    },
    {
      "cell_type": "code",
      "source": [
        "!git push -u origin main"
      ],
      "metadata": {
        "id": "nCFDKxq7V2LO"
      },
      "execution_count": null,
      "outputs": []
    },
    {
      "cell_type": "code",
      "source": [
        "!git remote set-url origin https://<YourGitHubProfileName>:<Your GitHub API Pass-Key>@github.com/<YourGitHubProfileName>/customer-churn-prediction.git"
      ],
      "metadata": {
        "id": "Vinmb0RoV5Sq"
      },
      "execution_count": 51,
      "outputs": []
    },
    {
      "cell_type": "code",
      "source": [
        "!git push -u origin main"
      ],
      "metadata": {
        "id": "D0oa3pd3WJ2a"
      },
      "execution_count": null,
      "outputs": []
    }
  ]
}